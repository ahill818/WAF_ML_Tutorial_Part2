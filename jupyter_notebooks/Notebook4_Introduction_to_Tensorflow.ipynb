{
 "cells": [
  {
   "cell_type": "markdown",
   "id": "b43d31f5-df27-4a1c-b12e-535ed905b749",
   "metadata": {},
   "source": [
    "# Notebook 04: Introduction to Tensorflow\n",
    "\n",
    "### Primary Goal: Introduce ```tensorflow``` \n",
    "\n",
    "#### Background\n",
    "\n",
    "[tensorflow](https://www.tensorflow.org/)\n",
    "\n",
    "What is it? \n",
    "    \n",
    "- a Google maintained open-source package that does all things neural networks\n",
    "    \n",
    "Why don't we use ```sklearn```?\n",
    "\n",
    "- ```sklearn``` does have a multi-layer perceptron [method](https://scikit-learn.org/stable/modules/generated/sklearn.neural_network.MLPClassifier.html), but currently there is no convolutional neural networks implemented. So you could use ```sklearn``` for ANNs, but for the sake of learning new tools, ```tensorflow``` is a bit more flexible than sklearn and is a common package used in research and industry. \n",
    "\n",
    "Where can I find more tutorials with tensorflow? \n",
    "\n",
    "- ```tensorflow``` has a bunch of good [tutorials](https://www.tensorflow.org/tutorials) on how to use their package. The only odd thing to meteorologists is that the datasets are not weather related (e.g., images of hand written digits, low resolution pictures of dogs and cats and horses), so adapting things to meteorology examples can be tough. \n",
    "\n",
    "\n",
    "#### Step 1: Imports\n",
    "\n",
    "Just like ```matplotlib.pyplot``` is abbreviated as ```plt``` and ```numpy``` is abbreviated as ```np```, ```tensorflow``` is imported as ```tf```"
   ]
  },
  {
   "cell_type": "code",
   "execution_count": 1,
   "id": "df8bf381-d2ff-4e9f-948e-4e30cdfa74e4",
   "metadata": {},
   "outputs": [],
   "source": [
    "import tensorflow as tf"
   ]
  },
  {
   "cell_type": "code",
   "execution_count": null,
   "id": "3d7d29c8-09f5-4efa-8b86-e0356889748b",
   "metadata": {},
   "outputs": [],
   "source": []
  }
 ],
 "metadata": {
  "kernelspec": {
   "display_name": "waf_tutorial_part2",
   "language": "python",
   "name": "waf_tutorial_part2"
  },
  "language_info": {
   "codemirror_mode": {
    "name": "ipython",
    "version": 3
   },
   "file_extension": ".py",
   "mimetype": "text/x-python",
   "name": "python",
   "nbconvert_exporter": "python",
   "pygments_lexer": "ipython3",
   "version": "3.10.4"
  }
 },
 "nbformat": 4,
 "nbformat_minor": 5
}
