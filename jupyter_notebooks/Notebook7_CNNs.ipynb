{
 "cells": [
  {
   "cell_type": "markdown",
   "id": "82335747-20ba-46ff-bc17-52ed03639d36",
   "metadata": {},
   "source": [
    "# Notebook 07: Convolutional Neural Networks \n",
    "\n",
    "### Primary Goal:\n",
    "\n",
    "Expore convolutional neural network \n",
    "\n",
    "#### Background\n",
    "\n",
    "?\n",
    "\n",
    "#### Step 1: Imports"
   ]
  },
  {
   "cell_type": "code",
   "execution_count": null,
   "id": "9fc548d4-f270-4824-9eac-84e923f31723",
   "metadata": {},
   "outputs": [],
   "source": []
  }
 ],
 "metadata": {
  "kernelspec": {
   "display_name": "waf_tutorial_part2",
   "language": "python",
   "name": "waf_tutorial_part2"
  },
  "language_info": {
   "codemirror_mode": {
    "name": "ipython",
    "version": 3
   },
   "file_extension": ".py",
   "mimetype": "text/x-python",
   "name": "python",
   "nbconvert_exporter": "python",
   "pygments_lexer": "ipython3",
   "version": "3.10.4"
  }
 },
 "nbformat": 4,
 "nbformat_minor": 5
}
